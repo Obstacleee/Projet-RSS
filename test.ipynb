{
 "cells": [
  {
   "cell_type": "markdown",
   "metadata": {},
   "source": [
    "Envoie un ficher sur discord grave a un weebhock\n"
   ]
  },
  {
   "cell_type": "code",
   "execution_count": 7,
   "metadata": {},
   "outputs": [],
   "source": []
  },
  {
   "cell_type": "code",
   "execution_count": 20,
   "metadata": {},
   "outputs": [],
   "source": [
    "import time\n",
    "from selenium import webdriver\n",
    "from selenium.webdriver.common.keys import Keys\n",
    "from selenium.webdriver.common.by import By\n",
    "\n",
    "driver = webdriver.Firefox()\n",
    "driver.get(\"https://discord.com/login?redirect_to=%2Fchannels%2F1128404472469667841\")\n",
    "time.sleep(4)\n",
    "email = driver.find_element(By.XPATH, \"//input[@aria-label='E-mail ou numéro de téléphone']\")\n",
    "password = driver.find_element(By.XPATH, \"//input[@aria-label='Mot de passe']\")\n",
    "\n",
    "email.clear()\n",
    "email.send_keys(\"Stobstacle@gmail.com\")\n",
    "password.clear()\n",
    "password.send_keys(\"xQVKAkaQ%FRtYOkNS1&XcuaUZ1WD!m8PA3h82lllsrxRRU6AVjvaQ!K1*R4vB\")\n",
    "bouton_connexion = driver.find_element(By.XPATH, \"//button[div[contains(text(), 'Connexion')]]\")\n",
    "\n",
    "# Cliquer sur le bouton\n",
    "bouton_connexion.click()\n"
   ]
  },
  {
   "cell_type": "code",
   "execution_count": null,
   "metadata": {},
   "outputs": [],
   "source": []
  }
 ],
 "metadata": {
  "kernelspec": {
   "display_name": "Python 3",
   "language": "python",
   "name": "python3"
  },
  "language_info": {
   "codemirror_mode": {
    "name": "ipython",
    "version": 3
   },
   "file_extension": ".py",
   "mimetype": "text/x-python",
   "name": "python",
   "nbconvert_exporter": "python",
   "pygments_lexer": "ipython3",
   "version": "3.11.5"
  }
 },
 "nbformat": 4,
 "nbformat_minor": 2
}
