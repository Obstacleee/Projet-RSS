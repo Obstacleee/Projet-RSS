{
 "cells": [
  {
   "cell_type": "code",
   "execution_count": 18,
   "metadata": {},
   "outputs": [
    {
     "data": {
      "text/plain": [
       "[]"
      ]
     },
     "execution_count": 18,
     "metadata": {},
     "output_type": "execute_result"
    }
   ],
   "source": [
    "\n"
   ]
  },
  {
   "cell_type": "code",
   "execution_count": 22,
   "metadata": {},
   "outputs": [],
   "source": [
    "import requests\n",
    "from bs4 import BeautifulSoup\n",
    "import re\n",
    "import feedparser\n",
    "#https://rss.app/feeds/lZUHcLwGD5mIZaFT.xml\n",
    "\n",
    "def rss_collect(feed):\n",
    "\n",
    "    news_feed = feedparser.parse(feed)\n",
    "\n",
    "\n",
    "    entries = []\n",
    "    for entry in news_feed.entries:\n",
    "        entries.append(entry.link)\n",
    "    \n",
    "    return entries\n",
    "\n",
    "def scraptxt(lien):\n",
    "    headers = {\n",
    "        'User-Agent': 'Mozilla/5.0 (Windows NT 10.0; Win64; x64) AppleWebKit/537.36 (KHTML, like Gecko) Chrome/107.0.0.0 Safari/537.36'\n",
    "    }\n",
    "\n",
    "    page = requests.get(lien, headers=headers)\n",
    "    soup = BeautifulSoup(page.text, 'html.parser')\n",
    "    titre= soup.title.string\n",
    "    lang_attribute = soup.find('html').get('lang', None)\n",
    "    return titre , soup , lang_attribute\n",
    "        \n",
    "def supprimer_codes_css_js(texte):\n",
    "\n",
    "    texte = re.sub(r'<style.*?</style>', '', texte, flags=re.DOTALL)\n",
    "    texte = re.sub(r'<a.*?</a>', '', texte, flags=re.DOTALL)\n",
    "    texte = re.sub(r'<script.*?</script>', '', texte, flags=re.DOTALL)\n",
    "\n",
    "    return texte\n",
    "def recuperer_contenu_p_h2_et_ol(texte):\n",
    "    # Use regex to find all content between <p>, <h2> and <li> tags\n",
    "    contenu = re.findall(r'<p>(.*?)</p>|<h2.*?>(.*?)</h2>|<ol.*?><li>(.*?)</li></ol>', texte, flags=re.DOTALL)\n",
    "    # Join all the content found into a single string, placing <h2> and <li> content at the right place\n",
    "\n",
    "    contenu = ' '.join([item for sublist in contenu for item in sublist if item])\n",
    "    \n",
    "    return contenu\n",
    "\n",
    "def supprimer_strong(texte):\n",
    "    texte = re.sub(r'<.*?>', '', texte, flags=re.DOTALL)\n",
    "\n",
    "    return texte\n",
    "def langue(texte):\n",
    "    pattern = r'(\"en\"|\"fr\"|\"es\"|\"ru\")'\n",
    "    resultats = re.search(pattern, texte)\n",
    "\n",
    "    if resultats:\n",
    "        langue = resultats.group(1).replace('\"', '')  \n",
    "        return langue\n",
    "    else:\n",
    "        return None\n",
    "    \n",
    "\n",
    "lien = rss_collect(\"https://rss.app/feeds/lZUHcLwGD5mIZaFT.xml\")\n",
    "\n",
    "contenue = recuperer_contenu_p_h2_et_ol(supprimer_codes_css_js(str(scraptxt(\"https://www.forbes.com/sites/jimgorzelany/2024/04/03/these-are-the-best-hybrid-powered-cars-and-suvs-for-the-money/?sh=250b9d635eaa\"))))\n"
   ]
  },
  {
   "cell_type": "code",
   "execution_count": 19,
   "metadata": {},
   "outputs": [
    {
     "data": {
      "text/plain": [
       "'https://www.forbes.com/sites/jjkinahan/2024/04/08/cpi-and-earnings-on-tap/'"
      ]
     },
     "execution_count": 19,
     "metadata": {},
     "output_type": "execute_result"
    }
   ],
   "source": [
    "\n",
    "lien = rss_collect(\"https://rss.app/feeds/lZUHcLwGD5mIZaFT.xml\")\n",
    "lien[0]\n",
    "    "
   ]
  },
  {
   "cell_type": "code",
   "execution_count": 23,
   "metadata": {},
   "outputs": [
    {
     "name": "stdout",
     "output_type": "stream",
     "text": [
      "Key Takeaways Stocks posted modest gains on Friday with the S&amp;P 500 closing higher by 1.11% and the Nasdaq Composite up 1.24%. However, it wasn't enough to reverse losses suffered earlier and both indices closed lower on the week. The S&amp;P dropped by 1% while the Nasdaq fell 0.8%. Volatility ended the week at 16.03, up 23%. The jump in volatility is likely a result of Friday's stronger than expected jobs number, this week's upcoming economic data, along with the start of earnings season. Last week saw some commodities stage strong rallies. Gold continued to make new highs, closing up 5%. Meantime, oil prices jumped 4% as tensions in the Middle East continue rising. In premarket activity, gold is higher by .5% while oil is slightly lower. Some individual stocks that have been in the news include Tesla\n",
      "\n",
      ". Shares of the automaker fell over 6% last week following disappointing delivery numbers. The drop in shares hasn't deterred Cathy Wood. Ark Innovation has reportedly added 2.3 million shares since December. That makes Tesla its second largest holding at 9.6% of the fund, second only to Coinbase, according to Yahoo. Taiwan Semiconductor shares are slightly higher in premarket. According to Reuters, the Biden Administration is set to grant the chip maker $6.6B in federal grants in exchange for the company promising to spend $25 billion to build out a third manufacturing facility in Arizona. Shares of Boeing\n",
      "\n",
      " are lower this morning after a flight out of Denver, headed to Houston, had to turn around and head back to Denver. Shortly after takeoff, an engine cover fell off and hit one of the wings on the plane. The plane safely returned to the airport and passengers were put on a different flight. In merger news, on Friday, Johnson and Johnson announced they will buy Shockwave Medical in a deal valued at $13.1 billion or $335/share. Also, Google\n",
      "\n",
      " parent Alphabet is reportedly exploring an acquisition of online marketing software company, HubSpot\n",
      "\n",
      ". HubSpot has a market valuation of $35 billion and any attempt by Alphabet to purchase the company is likely to be met with regulatory scrutiny given the size of the two companies. Heading into the second week of April, we're going to see a lot of new data for markets to digest in the coming weeks. Aside from the regular economic data, second quarter earnings season begins on Friday with banks scheduled to kick things off. The economic data we've been seeing continues to paint a picture of a strong economy. Depending on what you're hoping for, that's a good or bad thing. Investors who were hoping for multiple interest rate cuts this year are likely to be disappointed. Markets carried expectations heading into 2024 for the Fed to cut rates by as many as five times. The Fed itself had forecast just three cuts. Now, however, expectations have fallen to anywhere between no cuts and just two. As I've said many times in past columns, that isn't a bad thing. It means the economy is strong. The caveat here is, with expectations for rate cuts dwindling, the market is going to need to see strong earnings growth in order to keep it moving higher. On Friday, I talked a little bit about second quarter earnings. According to FactSet, consensus estimates are calling for earnings growth of 9.4% this quarter. The 12-month forward-looking P/E ratio for the S&amp;P is currently 20.5, well above its ten-year average of 17.7. As is usually the case, some companies will have more attention on them. Nvidia, whose shares are up 78% already this year, is likely to be the most heavily watched stock. Any sign of a slowdown there could have significant ramifications for the rest of the market. But before we get to earnings season, we're going to get the latest data on Consumer Prices and Producer Prices. The Consumer Price Index (CPI) is scheduled for release on Wednesday. Forecasts call for CPI to be up 0.3% month-over-month and 3.4% on a year-over-year basis. Core\n",
      "\n",
      " CPI, which removes volatile food and energy prices is expected to be higher by 0.3% month-over-month and 3.7% year-over-year, according to Bloomberg. The Produce Price Index is set for release on Thursday and I'll have a preview of that in my Wednesday column. For today, bonds are down nearly 1% in premarket. The yield on the benchmark 10-year note is now at 4.46%, the highest level its seen since November. I think this goes to the point I made earlier and have been making about the market's belief interest rates are unlikely to come down significantly anytime soon. That also supports my assertion that added emphasis is therefore going to be placed on earnings to keep the market moving ahead. As always, I would stick with your investing plans and long term objectives. tastytrade, Inc. commentary for educational purposes only. This content is not, nor is intended to be, trading or investment advice or a recommendation that any investment product or strategy is suitable for any person.\n"
     ]
    }
   ],
   "source": [
    "aaa = recuperer_contenu_p_h2_et_ol(supprimer_codes_css_js(str(scraptxt(lien[0]))))\n",
    "print(supprimer_strong(aaa))"
   ]
  },
  {
   "cell_type": "code",
   "execution_count": 14,
   "metadata": {},
   "outputs": [],
   "source": [
    "headers = {\n",
    "        'User-Agent': 'Mozilla/5.0 (Windows NT 10.0; Win64; x64) AppleWebKit/537.36 (KHTML, like Gecko) Chrome/107.0.0.0 Safari/537.36'\n",
    "    }\n",
    "\n",
    "page = requests.get(\"https://www.forbes.com/sites/jimgorzelany/2024/04/03/these-are-the-best-hybrid-powered-cars-and-suvs-for-the-money/?sh=67d73e7a5eaa\", headers=headers)\n",
    "soup = BeautifulSoup(page.text, 'html.parser')\n",
    "Titre = soup.title.string"
   ]
  },
  {
   "cell_type": "code",
   "execution_count": 9,
   "metadata": {},
   "outputs": [
    {
     "data": {
      "text/plain": [
       "'These Are The Best Hybrid-Powered Cars And SUVs For The Money, According To Experts'"
      ]
     },
     "execution_count": 9,
     "metadata": {},
     "output_type": "execute_result"
    }
   ],
   "source": [
    "Titre"
   ]
  },
  {
   "cell_type": "code",
   "execution_count": 15,
   "metadata": {},
   "outputs": [],
   "source": [
    "import mysql.connector\n",
    "\n",
    "cnx = mysql.connector.connect(user='root', password='',\n",
    "                              host='localhost',\n",
    "                              database='podcast')\n",
    "cursor = cnx.cursor()\n",
    "\n",
    "# Écrire la requête SQL\n",
    "query = \"INSERT INTO podcast_not (Titre, contenue, lien) VALUES (%s, %s , %s)\"\n",
    "\n",
    "# Les données à insérer\n",
    "data = (Titre, contenue, \"https://www.forbes.com/sites/jimgorzelany/2024/04/03/these-are-the-best-hybrid-powered-cars-and-suvs-for-the-money/?sh=250b9d635eaa\")\n",
    "# Exécuter la requête\n",
    "cursor.execute(query, data)\n",
    "\n",
    "# Valider les modifications\n",
    "cnx.commit()\n",
    "\n",
    "# Fermer le curseur et la connexion\n",
    "cursor.close()\n",
    "cnx.close()\n"
   ]
  }
 ],
 "metadata": {
  "kernelspec": {
   "display_name": "Python 3",
   "language": "python",
   "name": "python3"
  },
  "language_info": {
   "codemirror_mode": {
    "name": "ipython",
    "version": 3
   },
   "file_extension": ".py",
   "mimetype": "text/x-python",
   "name": "python",
   "nbconvert_exporter": "python",
   "pygments_lexer": "ipython3",
   "version": "3.11.5"
  }
 },
 "nbformat": 4,
 "nbformat_minor": 2
}
